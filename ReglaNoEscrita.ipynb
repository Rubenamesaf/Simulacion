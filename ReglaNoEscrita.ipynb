{
 "cells": [
  {
   "cell_type": "markdown",
   "id": "a3d0c2e6",
   "metadata": {},
   "source": [
    "# Regla no escrita"
   ]
  },
  {
   "cell_type": "markdown",
   "id": "1bd7b7c0",
   "metadata": {},
   "source": [
    "Se tiene un sistema en el cual cuenta con posiciones que puede ocupar un usuario. Para una posicion ser ocupada por un usuario debe cumplir con una condicion, las posiciones inmediatamente proximas a esta deben estar desocupadas.\n",
    "\n",
    "Casos en los que aplica el sistema: Un estacionamiento que resulto mas estrecho de lo esperado fruto de un mal calculo, los baños de hombres, etc. "
   ]
  },
  {
   "cell_type": "code",
   "execution_count": null,
   "id": "fe5f186b-158d-44b7-af76-1eead094ad58",
   "metadata": {},
   "outputs": [],
   "source": [
    "try:\n",
    "    import pint\n",
    "except ImportError:\n",
    "    !pip install pint"
   ]
  },
  {
   "cell_type": "code",
   "execution_count": null,
   "id": "1d2956f3-948a-4f2b-868f-021915a44aa1",
   "metadata": {},
   "outputs": [],
   "source": [
    "try:\n",
    "    from modsim import *\n",
    "except ImportError:\n",
    "    !pip install modsimpy\n",
    "    from modsim import *"
   ]
  },
  {
   "cell_type": "code",
   "execution_count": null,
   "id": "18cdc7b5-c2c8-44fc-a9a1-3be529264dd8",
   "metadata": {},
   "outputs": [],
   "source": [
    "import random"
   ]
  },
  {
   "cell_type": "code",
   "execution_count": null,
   "id": "bf5ba80d-5fed-4e56-8612-101feace8d2b",
   "metadata": {},
   "outputs": [],
   "source": [
    "!python --version"
   ]
  },
  {
   "cell_type": "code",
   "execution_count": null,
   "id": "c07c1c92-9022-40c7-8575-ef03477db29d",
   "metadata": {},
   "outputs": [],
   "source": [
    "# Configure Jupyter so figures appear in the notebook\n",
    "%matplotlib inline\n",
    "\n",
    "# Configure Jupyter to display the assigned value after an assignment\n",
    "%config InteractiveShell.ast_node_interactivity='last_expr_or_assign'"
   ]
  },
  {
   "cell_type": "code",
   "execution_count": null,
   "id": "1c9ccfc2-762e-41ed-acf5-968bc7ea3276",
   "metadata": {},
   "outputs": [],
   "source": [
    "posiciones = State(uno = 0, dos = 0, tres = 0, cuatro = 0, cinco = 0, seis = 0)\n",
    "\n",
    "timer = State(uno = 0, dos = 0, tres = 0, cuatro = 0, cinco = 0, seis = 0)\n",
    "\n",
    "tiempo_ocupacion = State(uno = 0, dos = 0, tres = 0, cuatro = 0, cinco = 0, seis = 0)\n",
    "\n",
    "usuarios = State(usuario_minuto = 0)\n",
    "\n",
    "usuario_no_satisfecho = 0"
   ]
  },
  {
   "cell_type": "code",
   "execution_count": null,
   "id": "8152533f-0958-4dab-aeec-8f1b509b032f",
   "metadata": {},
   "outputs": [],
   "source": [
    "\n",
    "ti = 0\n",
    "tf = 60"
   ]
  },
  {
   "cell_type": "code",
   "execution_count": null,
   "id": "2c0500aa-6591-4df9-ac63-5127c6fe31c3",
   "metadata": {},
   "outputs": [],
   "source": [
    "posiciones"
   ]
  },
  {
   "cell_type": "code",
   "execution_count": null,
   "id": "bf50b1ae-563b-47a4-a735-b350d3e9fb8a",
   "metadata": {},
   "outputs": [],
   "source": [
    "def ev_pos ():\n",
    "        if posiciones.uno == 1:\n",
    "            timer.uno = timer.uno + 1\n",
    "            if timer.uno == tiempo_ocupacion.uno:\n",
    "                timer.uno = 0\n",
    "                posiciones.uno = 0\n",
    "                tiempo_ocupacion.uno = 0\n",
    "        if posiciones.dos == 1:\n",
    "            timer.dos = timer.dos + 1\n",
    "            if timer.dos == tiempo_ocupacion.dos:\n",
    "                timer.dos = 0 \n",
    "                posiciones.dos = 0\n",
    "                tiempo_ocupacion.dos = 0\n",
    "        if posiciones.tres == 1:\n",
    "            timer.tres = timer.tres + 1\n",
    "            if timer.tres == tiempo_ocupacion.tres:\n",
    "                timer.tres = 0\n",
    "                posiciones.tres = 0\n",
    "                tiempo_ocupacion.tres = 0\n",
    "        if posiciones.cuatro == 1:\n",
    "            timer.cuatro = timer.cuatro + 1\n",
    "            if timer.cuatro == tiempo_ocupacion.cuatro:\n",
    "                timer.cuatro = 0\n",
    "                posiciones.cuatro = 0\n",
    "                tiempo_ocupacion.cuatro = 0\n",
    "        if posiciones.cinco == 1:\n",
    "            timer.cinco = timer.cinco + 1\n",
    "            if timer.cinco == tiempo_ocupacion.cinco:\n",
    "                timer.cinco = 0\n",
    "                posiciones.cinco = 0\n",
    "                tiempo_ocupacion.cinco\n",
    "        if posiciones.seis == 1:\n",
    "            timer.seis = timer.seis + 1\n",
    "            if timer.seis == tiempo_ocupacion.seis:\n",
    "                timer.seis = 0\n",
    "                posiciones.seis = 0\n",
    "                tiempo_ocupacion.seis = 0\n",
    "        "
   ]
  },
  {
   "cell_type": "code",
   "execution_count": null,
   "id": "a89a2c4e-d1d5-4fc5-9a1b-3190b8a179c2",
   "metadata": {},
   "outputs": [],
   "source": [
    "system = System(ti=ti, \n",
    "                tf=tf,\n",
    "                usuarios = usuarios, \n",
    "                posiciones = posiciones,\n",
    "                timer = timer,\n",
    "                tiempo_ocupacion = tiempo_ocupacion,\n",
    "                usuario_no_satisfecho = usuario_no_satisfecho\n",
    "               )"
   ]
  },
  {
   "cell_type": "code",
   "execution_count": null,
   "id": "b18e3754-6ad8-4c43-807c-4591b13fc521",
   "metadata": {},
   "outputs": [],
   "source": [
    "def run_simulation (system):\n",
    "    resultados1 = TimeSeries()\n",
    "    resultados1[system.ti] = (posiciones.uno + posiciones.dos + posiciones.tres + \n",
    "                              posiciones.cuatro + posiciones.cinco + posiciones.seis)\n",
    "    \n",
    "    tiempos = [1,2,2,2,3]\n",
    "    \n",
    "    for t in range (system.ti,system.tf):\n",
    "        \n",
    "        if flip(0.8166):\n",
    "            nuevo_usuario = 1\n",
    "        else:\n",
    "            nuevo_usuario = 0\n",
    "\n",
    "        \n",
    "        if nuevo_usuario == 1:\n",
    "\n",
    "            if flip(0.5) and posiciones.seis == 0 and posiciones.cinco == 0:\n",
    "                posiciones.seis = 1 \n",
    "                tiempo_ocupacion.seis = random.choice(tiempos)\n",
    "               \n",
    "            else:           \n",
    "                if posiciones.uno == 0 and posiciones.dos == 0:\n",
    "                    posiciones.uno = 1\n",
    "                    tiempo_ocupacion.uno = random.choice(tiempos)\n",
    "                  \n",
    "                \n",
    "                if posiciones.uno == 0 and posiciones.dos == 0 and posiciones.tres == 0:\n",
    "                    posiciones.dos = 1\n",
    "                    tiempo_ocupacion.dos = random.choice(tiempos)\n",
    "                 \n",
    "        \n",
    "                if posiciones.dos == 0 and posiciones.tres == 0 and posiciones.cuatro == 0:\n",
    "                    posiciones.tres = 1\n",
    "                    tiempo_ocupacion.tres = random.choice(tiempos)\n",
    "                   \n",
    "\n",
    "                if posiciones.tres == 0 and posiciones.cuatro == 0 and posiciones.cinco ==  0:\n",
    "                    posiciones.cuatro = 1\n",
    "                    tiempo_ocupacion.cuatro = random.choice(tiempos)\n",
    "         \n",
    "        \n",
    "                if posiciones.cuatro == 0 and posiciones.cinco == 0 and posiciones.seis== 0:\n",
    "                    posiciones.cinco = 1\n",
    "                    tiempo_ocupacion.cinco = random.choice(tiempos)\n",
    "              \n",
    "\n",
    "                if posiciones.cinco == 0 and posiciones.seis == 0:\n",
    "                    posiciones.seis = 1\n",
    "                    tiempo_ocupacion.seis = random.choice(tiempos)\n",
    "                \n",
    "                \n",
    "                else:\n",
    "                    system.usuario_no_satisfecho = system.usuario_no_satisfecho + 1\n",
    "            \n",
    "            \n",
    "\n",
    "            \n",
    "        ev_pos()\n",
    "        resultados1[t+1] = (posiciones.uno + posiciones.dos + posiciones.tres + posiciones.cuatro + posiciones.cinco + posiciones.seis)\n",
    "        resultados2 = system.usuario_no_satisfecho\n",
    "        \n",
    " \n",
    "    \n",
    "    return resultados1,resultados2"
   ]
  },
  {
   "cell_type": "code",
   "execution_count": null,
   "id": "0371a3c1-7816-4aa7-b8ad-dee460430942",
   "metadata": {},
   "outputs": [],
   "source": [
    "el_resultado = run_simulation(system)"
   ]
  },
  {
   "cell_type": "code",
   "execution_count": null,
   "id": "347cb5f9-7dd0-4ede-9f45-db9bf30a534d",
   "metadata": {},
   "outputs": [],
   "source": [
    "el_resultado[0]"
   ]
  },
  {
   "cell_type": "code",
   "execution_count": null,
   "id": "32f7ba3f-76d5-47f9-829d-42b06d94d998",
   "metadata": {},
   "outputs": [],
   "source": [
    "print(\"Usuarios que no encontraron posicion disponible\")\n",
    "el_resultado[1]"
   ]
  },
  {
   "cell_type": "code",
   "execution_count": null,
   "id": "10068cc0",
   "metadata": {},
   "outputs": [],
   "source": [
    "def plot_results():\n",
    "    el_resultado[0].plot(label='Ocupacion de posiciones')\n",
    "    decorate(xlabel='Tiempo (Minutos)', \n",
    "             ylabel='Ocupacion')"
   ]
  },
  {
   "cell_type": "code",
   "execution_count": null,
   "id": "33d7ab94",
   "metadata": {},
   "outputs": [],
   "source": [
    "plot_results()\n",
    "decorate(title='Historico de ocupacion (6 posiciones)')"
   ]
  },
  {
   "cell_type": "code",
   "execution_count": null,
   "id": "0aa8f5a7",
   "metadata": {},
   "outputs": [],
   "source": [
    "posiciones"
   ]
  },
  {
   "cell_type": "markdown",
   "id": "ef9baec8",
   "metadata": {},
   "source": [
    "OBSERVACIONES: En un sistema con 6 posiciones y tomando en cuenta la condicion mencionada en el inicio. Solo se podrian ocupar 3 posiciones al mismo tiempo a demas el total de usuarios que no encuentran una posicion es de 21"
   ]
  },
  {
   "cell_type": "code",
   "execution_count": null,
   "id": "57fc3d50",
   "metadata": {},
   "outputs": [],
   "source": [
    "posiciones = State(uno = 0, dos = 0, tres = 0, cuatro = 0, cinco = 0)\n",
    "timer = State(uno = 0, dos = 0, tres = 0, cuatro = 0, cinco = 0)\n",
    "tiempo_ocupacion = State(uno = 0, dos = 0, tres = 0, cuatro = 0, cinco = 0)\n",
    "usuarios = State(usuario_minuto = 0)\n",
    "usuario_no_satisfecho = 0"
   ]
  },
  {
   "cell_type": "code",
   "execution_count": null,
   "id": "6010bb56-8dc9-4448-8bda-a4b9904b21be",
   "metadata": {},
   "outputs": [],
   "source": [
    "def ev_pos ():\n",
    "        if posiciones.uno == 1:\n",
    "            timer.uno = timer.uno + 1\n",
    "            if timer.uno == tiempo_ocupacion.uno:\n",
    "                timer.uno = 0\n",
    "                posiciones.uno = 0\n",
    "                tiempo_ocupacion.uno = 0\n",
    "        if posiciones.dos == 1:\n",
    "            timer.dos = timer.dos + 1\n",
    "            if timer.dos == tiempo_ocupacion.dos:\n",
    "                timer.dos = 0 \n",
    "                posiciones.dos = 0\n",
    "                tiempo_ocupacion.dos = 0\n",
    "        if posiciones.tres == 1:\n",
    "            timer.tres = timer.tres + 1\n",
    "            if timer.tres == tiempo_ocupacion.tres:\n",
    "                timer.tres = 0\n",
    "                posiciones.tres = 0\n",
    "                tiempo_ocupacion.tres = 0\n",
    "        if posiciones.cuatro == 1:\n",
    "            timer.cuatro = timer.cuatro + 1\n",
    "            if timer.cuatro == tiempo_ocupacion.cuatro:\n",
    "                timer.cuatro = 0\n",
    "                posiciones.cuatro = 0\n",
    "                tiempo_ocupacion.cuatro = 0\n",
    "        if posiciones.cinco == 1:\n",
    "            timer.cinco = timer.cinco + 1\n",
    "            if timer.cinco == tiempo_ocupacion.cinco:\n",
    "                timer.cinco = 0\n",
    "                posiciones.cinco = 0\n",
    "                tiempo_ocupacion.cinco\n",
    "        "
   ]
  },
  {
   "cell_type": "code",
   "execution_count": null,
   "id": "9c30b91d-8ccd-4217-8cd8-a18413f08744",
   "metadata": {},
   "outputs": [],
   "source": [
    "system = System(ti=ti, \n",
    "                tf=tf,\n",
    "                usuarios = usuarios, \n",
    "                posiciones = posiciones,\n",
    "                timer = timer,\n",
    "                tiempo_ocupacion = tiempo_ocupacion,\n",
    "                usuario_no_satisfecho = usuario_no_satisfecho\n",
    "               )"
   ]
  },
  {
   "cell_type": "code",
   "execution_count": null,
   "id": "d8eb857a-a968-447e-8ae5-e22c2654859c",
   "metadata": {},
   "outputs": [],
   "source": [
    " def run_simulation (system):\n",
    "    resultados1 = TimeSeries()\n",
    "    resultados1[system.ti] = (posiciones.uno + posiciones.dos + posiciones.tres + posiciones.cuatro + posiciones.cinco)\n",
    "    system.usuario_no_satisfecho = 0\n",
    "    \n",
    "    tiempos = [1,2,2,2,3]\n",
    "    \n",
    "    for t in range (system.ti,system.tf):\n",
    "        \n",
    "        if flip(0.8166):\n",
    "            nuevo_usuario = 1\n",
    "        else:\n",
    "            nuevo_usuario = 0\n",
    "\n",
    "        \n",
    "        if nuevo_usuario == 1:\n",
    "            if flip(0.5) and posiciones.cinco == 0:\n",
    "                posiciones.cinco = 1\n",
    "                tiempo_ocupacion.cinco = random.choice(tiempos)\n",
    "\n",
    "            else:       \n",
    "                if posiciones.uno == 0:\n",
    "                    posiciones.uno += 1\n",
    "                    tiempo_ocupacion.uno = random.choice(tiempos)\n",
    "\n",
    "                \n",
    "                if posiciones.dos == 0:\n",
    "                    posiciones.dos += 1\n",
    "                    tiempo_ocupacion.dos = random.choice(tiempos)\n",
    "\n",
    "        \n",
    "                if posiciones.tres == 0:\n",
    "                    posiciones.tres += 1\n",
    "                    tiempo_ocupacion.tres = random.choice(tiempos)\n",
    "\n",
    "\n",
    "                if posiciones.cuatro == 0:\n",
    "                    posiciones.cuatro += 1\n",
    "                    tiempo_ocupacion.cuatro = random.choice(tiempos)\n",
    "\n",
    "        \n",
    "                if posiciones.cinco == 0:\n",
    "                    posiciones.cinco += 1\n",
    "                    tiempo_ocupacion.cinco = random.choice(tiempos)\n",
    "\n",
    "\n",
    "                else:\n",
    "                    system.usuario_no_satisfecho = system.usuario_no_satisfecho + 1\n",
    "\n",
    "\n",
    "            \n",
    "        ev_pos()\n",
    "        resultados1[t+1] = (posiciones.uno + posiciones.dos + posiciones.tres + posiciones.cuatro + posiciones.cinco)\n",
    "        resultados2 = system.usuario_no_satisfecho\n",
    "        \n",
    " \n",
    "    \n",
    "    return resultados1,resultados2"
   ]
  },
  {
   "cell_type": "code",
   "execution_count": null,
   "id": "293e1fea-efb8-4a56-af2f-2de65257a8a3",
   "metadata": {},
   "outputs": [],
   "source": [
    "el_resultado[0]"
   ]
  },
  {
   "cell_type": "code",
   "execution_count": null,
   "id": "a5c5963a-9041-4905-acb1-fcb80296e2ef",
   "metadata": {},
   "outputs": [],
   "source": [
    "el_resultado = run_simulation(system)"
   ]
  },
  {
   "cell_type": "code",
   "execution_count": null,
   "id": "f4873dd0-9a31-4b8c-8982-8c559f952436",
   "metadata": {},
   "outputs": [],
   "source": [
    "print(\"Usuarios que no encontraron posicion disponible\")\n",
    "el_resultado[1]"
   ]
  },
  {
   "cell_type": "code",
   "execution_count": null,
   "id": "25de7683-bf88-44e2-a7f9-4666e398f06c",
   "metadata": {},
   "outputs": [],
   "source": [
    "def plot_results():\n",
    "    el_resultado[0].plot(label='Ocupacion de posiciones')\n",
    "    decorate(xlabel='Tiempo (Minutos)', \n",
    "             ylabel='Ocupacion')"
   ]
  },
  {
   "cell_type": "code",
   "execution_count": null,
   "id": "ba3b9e11-b9a7-4d58-a35c-d52e3104f74a",
   "metadata": {},
   "outputs": [],
   "source": [
    "plot_results()\n",
    "decorate(title='Historico de ocupacion (5 posiciones)')"
   ]
  },
  {
   "cell_type": "code",
   "execution_count": null,
   "id": "9076353b-e15e-482c-8319-afa24fb521ac",
   "metadata": {},
   "outputs": [],
   "source": [
    "posiciones"
   ]
  },
  {
   "cell_type": "markdown",
   "id": "7d739fd4",
   "metadata": {},
   "source": [
    "OBSERVACIONES: Reduciendo el numero de posiciones del sistema se eliminaria la condicion inicial y se podrian ocupar todas las pociiones a la vez, en este caso 5 posiciones. Resultado tambien en un menor numero de usuarios que no encontraron una posicion disponible. "
   ]
  },
  {
   "cell_type": "code",
   "execution_count": null,
   "id": "8e694fd5",
   "metadata": {},
   "outputs": [],
   "source": []
  }
 ],
 "metadata": {
  "kernelspec": {
   "display_name": "Python 3 (ipykernel)",
   "language": "python",
   "name": "python3"
  },
  "language_info": {
   "codemirror_mode": {
    "name": "ipython",
    "version": 3
   },
   "file_extension": ".py",
   "mimetype": "text/x-python",
   "name": "python",
   "nbconvert_exporter": "python",
   "pygments_lexer": "ipython3",
   "version": "3.9.12"
  }
 },
 "nbformat": 4,
 "nbformat_minor": 5
}
